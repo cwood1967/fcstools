{
 "cells": [
  {
   "cell_type": "code",
   "execution_count": 1,
   "metadata": {},
   "outputs": [
    {
     "name": "stderr",
     "output_type": "stream",
     "text": [
      "/Users/cjw/anaconda3/envs/deep/lib/python3.6/site-packages/statsmodels/tools/_testing.py:19: FutureWarning: pandas.util.testing is deprecated. Use the functions in the public API at pandas.testing instead.\n",
      "  import pandas.util.testing as tm\n"
     ]
    }
   ],
   "source": [
    "import autoreload\n",
    "%load_ext autoreload\n",
    "%autoreload 2\n",
    "\n",
    "import glob\n",
    "import os\n",
    "\n",
    "import numpy as np\n",
    "from matplotlib import pyplot as plt\n",
    "import pandas as pd\n",
    "import seaborn as sns\n",
    "\n",
    "from fcsutils import FcsTrajectory\n",
    "from fcsfit import *\n",
    "\n",
    "from fcsutils import readfcsfile\n",
    "\n",
    "%matplotlib inline"
   ]
  },
  {
   "cell_type": "code",
   "execution_count": null,
   "metadata": {},
   "outputs": [],
   "source": [
    "### make the object and do calculations\n",
    "#print(files[31])\n",
    "ff = glob.glob('Data/FCS_raw/dish1-raw/*pow-4_*_R7_*.raw')\n",
    "g = 'Data/dish1-1per-pow-8.fcs'\n",
    "gcc = readfcsfile(g)\n",
    "gdf = gcc\n",
    "gdf5 = gcc[gcc.series == 5]\n",
    "print(ff)\n",
    "c = FcsTrajectory(ff[0], 20e-6)\n",
    "c()\n",
    "\n",
    "## do some fitting\n",
    "## one component fit\n",
    "fcs1 = fcs_1comp(p0 = [.1, .001, 0])\n",
    "\n",
    "## 1 component fit with triplet - ftrip and ttrip fixed\n",
    "fcst = fcs_1comp_triplet(p0=[.05, .001, 0], bounds=None)\n",
    "fcst.fix(0.05, 250e-6)\n",
    "\n",
    "p1, _ = fcs1(c.actime, c.autocorr)\n",
    "pt, _ = fcst(c.actime, c.autocorr)\n",
    "\n",
    "cij = pd.read_csv('Data/fcs_compare/import_fft_4r7.csv')\n",
    "caa = pd.read_csv('Data/fcs_compare/aa_selected_4r7.csv')\n",
    "cc = pd.read_csv('Data/fcs_compare/all_aa_selected_4r7.csv')\n",
    "\n",
    "# xca = pd.read_csv('Data/xca.csv')\n",
    "# cf = pd.read_csv('Data/cf.csv')\n",
    "#cj =cj.drop(index=0, axis=0)\n",
    "p1, pt"
   ]
  },
  {
   "cell_type": "code",
   "execution_count": null,
   "metadata": {},
   "outputs": [],
   "source": [
    "plt.figure(figsize=(12,8))\n",
    "#plt.subplot(2,1,1)\n",
    "#plt.plot(c.txdisplay, c.trajdisplay)\n",
    "#plt.subplot(2,1,2)\n",
    "plt.semilogx(c.actime, c.autocorr, marker=None,\n",
    "             linewidth=3,label=\"cjw autocorrelation\")\n",
    "plt.semilogx(cij.X1, cij.Y1, color=None, label=\"import then traj fft\")\n",
    "plt.semilogx(caa.X1, caa.Y1, marker=None, color='green', label=\"import then analysis autocorr\")\n",
    "plt.semilogx(cc.X1, cc.Y1, color='red', label=\"open with analysis autocorr\")\n",
    "plt.legend()"
   ]
  }
 ],
 "metadata": {
  "kernelspec": {
   "display_name": "deep",
   "language": "python",
   "name": "deep"
  },
  "language_info": {
   "codemirror_mode": {
    "name": "ipython",
    "version": 3
   },
   "file_extension": ".py",
   "mimetype": "text/x-python",
   "name": "python",
   "nbconvert_exporter": "python",
   "pygments_lexer": "ipython3",
   "version": "3.6.10"
  }
 },
 "nbformat": 4,
 "nbformat_minor": 2
}
